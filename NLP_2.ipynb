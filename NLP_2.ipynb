{
  "nbformat": 4,
  "nbformat_minor": 0,
  "metadata": {
    "colab": {
      "provenance": [],
      "collapsed_sections": []
    },
    "kernelspec": {
      "name": "python3",
      "display_name": "Python 3"
    },
    "language_info": {
      "name": "python"
    }
  },
  "cells": [
    {
      "cell_type": "code",
      "source": [
        "!pip install CountVectorizer"
      ],
      "metadata": {
        "colab": {
          "base_uri": "https://localhost:8080/"
        },
        "id": "N6S7yaYij55B",
        "outputId": "01781324-30ba-49ab-f6ca-4e967a1d91e5"
      },
      "execution_count": 1,
      "outputs": [
        {
          "output_type": "stream",
          "name": "stdout",
          "text": [
            "Looking in indexes: https://pypi.org/simple, https://us-python.pkg.dev/colab-wheels/public/simple/\n",
            "\u001b[31mERROR: Could not find a version that satisfies the requirement CountVectorizer (from versions: none)\u001b[0m\n",
            "\u001b[31mERROR: No matching distribution found for CountVectorizer\u001b[0m\n"
          ]
        }
      ]
    },
    {
      "cell_type": "code",
      "execution_count": 2,
      "metadata": {
        "id": "w0OOGvvMw2EU"
      },
      "outputs": [],
      "source": [
        "from sklearn.feature_extraction.text import CountVectorizer"
      ]
    },
    {
      "cell_type": "code",
      "source": [
        "text_data = ['나는 배가 고프다', '내일 점심 뭐먹지','내일 공부 해야겠다','점식 먹고 공부해야지']\n",
        "\n",
        "count_vectorizer = CountVectorizer()"
      ],
      "metadata": {
        "id": "J4662DGHjxud"
      },
      "execution_count": 3,
      "outputs": []
    },
    {
      "cell_type": "code",
      "source": [
        "count_vectorizer.fit(text_data)\n",
        "print(count_vectorizer.vocabulary_)"
      ],
      "metadata": {
        "colab": {
          "base_uri": "https://localhost:8080/"
        },
        "id": "Lp1GgEOpjzmO",
        "outputId": "5f154a69-1d2a-49df-ba02-c26cbe9144ba"
      },
      "execution_count": 4,
      "outputs": [
        {
          "output_type": "stream",
          "name": "stdout",
          "text": [
            "{'나는': 3, '배가': 7, '고프다': 0, '내일': 4, '점심': 9, '뭐먹지': 6, '공부': 1, '해야겠다': 10, '점식': 8, '먹고': 5, '공부해야지': 2}\n"
          ]
        }
      ]
    },
    {
      "cell_type": "code",
      "source": [
        "sentence = [text_data[0]]\n",
        "print(count_vectorizer.transform(sentence).toarray())"
      ],
      "metadata": {
        "colab": {
          "base_uri": "https://localhost:8080/"
        },
        "id": "B9RPZxFzj0-p",
        "outputId": "31c8e78a-b51f-4035-814a-e3658858e5a2"
      },
      "execution_count": 5,
      "outputs": [
        {
          "output_type": "stream",
          "name": "stdout",
          "text": [
            "[[1 0 0 1 0 0 0 1 0 0 0]]\n"
          ]
        }
      ]
    },
    {
      "cell_type": "code",
      "source": [
        "from sklearn.feature_extraction.text import TfidfVectorizer"
      ],
      "metadata": {
        "id": "uAfXT9_EanKY"
      },
      "execution_count": 8,
      "outputs": []
    },
    {
      "cell_type": "code",
      "source": [
        "tfidf_vectorizer = TfidfVectorizer()"
      ],
      "metadata": {
        "id": "h12aMaOnaqWu"
      },
      "execution_count": 10,
      "outputs": []
    },
    {
      "cell_type": "code",
      "source": [
        "tfidf_vectorizer.fit(text_data)\n",
        "print(tfidf_vectorizer.vocabulary_)"
      ],
      "metadata": {
        "colab": {
          "base_uri": "https://localhost:8080/"
        },
        "id": "YUW840TOa4nt",
        "outputId": "37be94ba-f02a-453f-ba83-b9e221323350"
      },
      "execution_count": 11,
      "outputs": [
        {
          "output_type": "stream",
          "name": "stdout",
          "text": [
            "{'나는': 3, '배가': 7, '고프다': 0, '내일': 4, '점심': 9, '뭐먹지': 6, '공부': 1, '해야겠다': 10, '점식': 8, '먹고': 5, '공부해야지': 2}\n"
          ]
        }
      ]
    },
    {
      "cell_type": "code",
      "source": [
        "sentence = [text_data[3]]\n",
        "print(tfidf_vectorizer.transform(text_data).toarray())"
      ],
      "metadata": {
        "colab": {
          "base_uri": "https://localhost:8080/"
        },
        "id": "ScATrnIZbBEH",
        "outputId": "b5802669-b825-4049-9b44-43549fd59882"
      },
      "execution_count": 12,
      "outputs": [
        {
          "output_type": "stream",
          "name": "stdout",
          "text": [
            "[[0.57735027 0.         0.         0.57735027 0.         0.\n",
            "  0.         0.57735027 0.         0.         0.        ]\n",
            " [0.         0.         0.         0.         0.48693426 0.\n",
            "  0.61761437 0.         0.         0.61761437 0.        ]\n",
            " [0.         0.61761437 0.         0.         0.48693426 0.\n",
            "  0.         0.         0.         0.         0.61761437]\n",
            " [0.         0.         0.57735027 0.         0.         0.57735027\n",
            "  0.         0.         0.57735027 0.         0.        ]]\n"
          ]
        }
      ]
    },
    {
      "cell_type": "code",
      "source": [],
      "metadata": {
        "id": "mn6rZbQ6bTTV"
      },
      "execution_count": null,
      "outputs": []
    }
  ]
}